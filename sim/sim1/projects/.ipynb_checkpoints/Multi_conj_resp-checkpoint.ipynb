{
 "cells": [
  {
   "cell_type": "code",
   "execution_count": 1,
   "metadata": {},
   "outputs": [],
   "source": [
    "# necessary packages #\n",
    "\n",
    "#using Pkg\n",
    "#Pkg.add(\"Distances\")\n",
    "using Distributions\n",
    "using Random\n",
    "using Distances\n",
    "using LinearAlgebra\n",
    "using SparseArrays\n",
    "using IterativeSolvers\n",
    "using ProgressMeter\n",
    "using JLD2"
   ]
  },
  {
   "cell_type": "code",
   "execution_count": 2,
   "metadata": {},
   "outputs": [
    {
     "data": {
      "text/plain": [
       "colnorm (generic function with 1 method)"
      ]
     },
     "execution_count": 2,
     "metadata": {},
     "output_type": "execute_result"
    }
   ],
   "source": [
    "include(\"../../../util2.j\")"
   ]
  },
  {
   "cell_type": "code",
   "execution_count": null,
   "metadata": {},
   "outputs": [],
   "source": [
    "# packages for diagnostic test #\n",
    "\n",
    "using StatsPlots\n",
    "using MCMCChains\n",
    "using PrettyTables"
   ]
  },
  {
   "cell_type": "code",
   "execution_count": null,
   "metadata": {},
   "outputs": [],
   "source": [
    "@load \"../data/sim1data.jld\";"
   ]
  },
  {
   "cell_type": "code",
   "execution_count": null,
   "metadata": {},
   "outputs": [],
   "source": [
    "# priors #\n",
    "μβ = fill(0.0, p, q); inv_Vr =[[0.0 0.0]; [0.0 0.0]]; # set Vr^{-1} be zero for the simulation...\n",
    "νΣ = q + 1; ΨΣ = [[1.0 0.0]; [0.0 1.0]];"
   ]
  },
  {
   "cell_type": "code",
   "execution_count": null,
   "metadata": {},
   "outputs": [],
   "source": [
    "# cross-validation Preparison\n",
    "# (a) Randomly split S into K folder \n",
    "Random.seed!(321);\n",
    "kf = 5;\n",
    "parts = kfoldperm(n,kf);\n",
    "\n",
    "# (b) Build NN index for training data in ith folder\n",
    "using RCall\n",
    "CVNN_train = Array{Any,1}(undef, kf);\n",
    "CVNN_test = Array{Any,1}(undef, kf);\n",
    "CVnnIndx_col = Array{Any,1}(undef, kf);\n",
    "CVnnIndx_row = Array{Any,1}(undef, kf);\n",
    "CVMnnIndxLU = Array{Any,1}(undef, kf); \n",
    "CVMnnIndx = Array{Any,1}(undef, kf);\n",
    "\n",
    "@rput coords_ord\n",
    "@rput S\n",
    "@rput m\n",
    "@rput parts\n",
    "\n",
    "for i in 1:kf\n",
    "    \n",
    "    # Build NN index for training data in ith folder\n",
    "    CVNN_train[i] = BuildNN(coords_ord[S[filter(x->!(x in parts[i]), eachindex(S))], :], m);\n",
    "    CVnnIndx_col[i] = vcat(CVNN_train[i].nnIndx, 1:(n - length(parts[i])));\n",
    "    CVnnIndx_row[i] = zeros(Int64, 0);\n",
    "    for j in 2:m\n",
    "        CVnnIndx_row[i] = vcat(CVnnIndx_row[i], fill(j, j-1));\n",
    "    end\n",
    "    CVnnIndx_row[i] = vcat(CVnnIndx_row[i], \n",
    "        repeat((m + 1):(n - length(parts[i])), inner = m), 1:(n - length(parts[i])));\n",
    "        \n",
    "    # Build nearest neighbor index for holdout locations\n",
    "    @rput i\n",
    "    R\"\"\"\n",
    "    library(\"RANN\")\n",
    "    nn_mod_ho <- nn2(coords_ord[S[-parts[[i]]], ], coords_ord[S[parts[[i]]], ], k = m)\n",
    "    \"\"\"\n",
    "    @rget nn_mod_ho\n",
    "    CVNN_test[i] = nn_mod_ho;\n",
    "    CVMnnIndxLU[i] = collect(1:m:(length(parts[i]) * m + 1));\n",
    "    CVMnnIndx[i] = vec(nn_mod_ho[:nn_idx]');  \n",
    "end   "
   ]
  },
  {
   "cell_type": "code",
   "execution_count": null,
   "metadata": {},
   "outputs": [],
   "source": [
    "# (a) grid of candidate value\n",
    "ϕ_grid = vcat(LinRange(3 / sqrt(2), 3 * 12.5 / sqrt(2), 25))\n",
    "#LinRange(3 / sqrt(2), 3 * 50 / sqrt(2), 20) #LinRange(3 / sqrt(2), 3 * 100 / sqrt(2), 20);\n",
    "α_grid = vcat(LinRange(0.8, 0.99, 25)) #LinRange(0.75, 1, 10); #LinRange(0.5, 1, 10);"
   ]
  },
  {
   "cell_type": "code",
   "execution_count": null,
   "metadata": {},
   "outputs": [],
   "source": [
    "# For loop\n",
    "CVRMSPE = fill(0.0, length(ϕ_grid), length(α_grid));\n",
    "prog = Progress(kf, 1, \"Computing initial pass...\", 50)\n",
    "for i in 1:kf\n",
    "    CVnIndx = length(CVNN_train[i].nnIndx);\n",
    "    nk = length(parts[i]);\n",
    "    CVA = Array{Float64}(undef, CVnIndx); CVD = Array{Float64}(undef, n - nk);\n",
    "    Index_train = [filter(x->!(x in parts[i]), eachindex(S))][1];\n",
    "    CVDI_AX = []; CVDI_AY = []; CVVstar = []; CVμstar = [];\n",
    "    \n",
    "    CVAtilde = Array{Float64}(undef, nk * m); CVDtilde = Array{Float64}(undef, nk);\n",
    "    CVAtildeM = [];\n",
    "    \n",
    "    for j in 1:length(ϕ_grid) \n",
    "        for k in 1:length(α_grid)\n",
    "            \n",
    "            # obtain posterior estimators of beta\n",
    "            getAD_collapse(coords_ord[S[Index_train], :], \n",
    "                CVNN_train[i].nnIndx, CVNN_train[i].nnDist, CVNN_train[i].nnIndxLU, \n",
    "                ϕ_grid[j], 0.5, α_grid[k], CVA, CVD);\n",
    "            CVDI_AX = Diagonal(1 ./ sqrt.(CVD)) * (sparse(CVnnIndx_row[i], CVnnIndx_col[i], \n",
    "                    vcat(-CVA, ones(n - nk))) * X_ord[S[Index_train], :]);\n",
    "            CVDI_AY = Diagonal(1 ./ sqrt.(CVD)) * (sparse(CVnnIndx_row[i], CVnnIndx_col[i], \n",
    "                    vcat(-CVA, ones(n - nk))) * Y_ord[S[Index_train], :]);\n",
    "            CVVstar = inv(Symmetric(CVDI_AX'CVDI_AX + inv_Vr));\n",
    "            CVμstar = CVVstar * (CVDI_AX'CVDI_AY + inv_Vr * μβ);\n",
    "            \n",
    "            # obtain posterior predictions over holded folder\n",
    "            getAD_collapse(coords_ord[S[Index_train], :], CVMnnIndx[i], \n",
    "                vec(CVNN_test[i][:nn_dists]'), CVMnnIndxLU[i],  ϕ_grid[j], 0.5, α_grid[k], CVAtilde, CVDtilde)\n",
    "            CVAtildeM = sparse(repeat(1:nk, inner = m), CVMnnIndx[i], CVAtilde, nk, n - nk);\n",
    "            Y_hold_mean = X_ord[S[parts[i]], :] * CVμstar + \n",
    "                CVAtildeM * (Y_ord[S[Index_train], :] - X_ord[S[Index_train], :] * CVμstar);\n",
    "            \n",
    "            # Calculate RMSPE\n",
    "            CVRMSPE[j, k] = CVRMSPE[j, k] + sqrt(mean((Y_ord[S[parts[i]], :] - Y_hold_mean).^2));\n",
    "        end\n",
    "    end\n",
    "    next!(prog) # monitor the progress\n",
    "end\n"
   ]
  },
  {
   "cell_type": "code",
   "execution_count": null,
   "metadata": {},
   "outputs": [],
   "source": [
    "# cross-validation for choosing delta and phi ...\n",
    "pick_ind = argmin(CVRMSPE);\n",
    "ϕ_pick = ϕ_grid[pick_ind[1]]; α_pick = α_grid[pick_ind[2]]; # alpha ranges from 0 to 1. alpha = sigma2 / (sigma2 + tau2)\n",
    "[ϕ_pick, α_pick]"
   ]
  },
  {
   "cell_type": "code",
   "execution_count": null,
   "metadata": {},
   "outputs": [],
   "source": [
    "#ϕ_pick = ϕ1; α_pick = α;"
   ]
  },
  {
   "cell_type": "code",
   "execution_count": null,
   "metadata": {},
   "outputs": [],
   "source": [
    "# Build μ* V* Ψ* v*\n",
    "nIndx = length(NN.nnIndx);\n",
    "A = Array{Float64}(undef, nIndx); D = Array{Float64}(undef, n);\n",
    "getAD_collapse(coords_ord[S, :], NN.nnIndx, NN.nnDist, NN.nnIndxLU, ϕ_pick, 0.5, α_pick, A, D);\n",
    "DI_AX = Diagonal(1 ./ sqrt.(D)) * (sparse(nnIndx_row, nnIndx_col, vcat(-A, ones(n))) * X_ord[S, :]);\n",
    "DI_AY = Diagonal(1 ./ sqrt.(D)) * (sparse(nnIndx_row, nnIndx_col, vcat(-A, ones(n))) * Y_ord[S, :]);\n",
    "Vstar = inv(Symmetric(DI_AX'DI_AX + inv_Vr));\n",
    "μstar = Vstar * (DI_AX'DI_AY + inv_Vr * μβ);\n",
    "Lμstar = cholesky(Vstar).L \\ μstar;\n",
    "Ψstar = ΨΣ + DI_AY'DI_AY + transpose(μβ) * inv_Vr * μβ - Lμstar'Lμstar;\n",
    "νstar = νΣ + n;\n",
    "Lstar = cholesky(Vstar);"
   ]
  },
  {
   "cell_type": "code",
   "execution_count": null,
   "metadata": {},
   "outputs": [],
   "source": [
    "# construct Atilde Dtilde #\n",
    "\n",
    "using RCall\n",
    "@rput coords_ord\n",
    "@rput S\n",
    "@rput m\n",
    "R\"\"\"\n",
    "library(\"RANN\")\n",
    "nn_mod_ho <- nn2(coords_ord[S, ], coords_ord[-S, ], k = m)\n",
    "\"\"\"\n",
    "@rget nn_mod_ho\n",
    "nm = length(M);\n",
    "Atilde = Array{Float64}(undef, nm * m); Dtilde = Array{Float64}(undef, nm);\n",
    "MnnIndxLU = collect(1:m:(nm * m + 1));\n",
    "MnnIndx = vec(nn_mod_ho[:nn_idx]');\n",
    "getAD_collapse(coords_ord[S, :], MnnIndx, vec(nn_mod_ho[:nn_dists]'), MnnIndxLU, \n",
    "    ϕ_pick, 0.5, α_pick, Atilde, Dtilde)\n",
    "AtildeM = sparse(repeat(1:nm, inner = m), MnnIndx, Atilde, nm, n);"
   ]
  },
  {
   "cell_type": "code",
   "execution_count": null,
   "metadata": {},
   "outputs": [],
   "source": [
    "# Preallocation for posterior samples #\n",
    "N_sam = 500;\n",
    "β_sam = Array{Float64, 3}(undef, p, q, N_sam);\n",
    "Σ_sam = Array{Float64, 3}(undef, q, q, N_sam);\n",
    "Y_M_sam = Array{Float64, 3}(undef, length(M), q, N_sam);   # missing value\n",
    "\n",
    "cholΣ_sam = Array{Float64, 2}(undef, q, q);"
   ]
  },
  {
   "cell_type": "code",
   "execution_count": null,
   "metadata": {},
   "outputs": [],
   "source": [
    "# generate the posterior samples #\n",
    "Random.seed!(123);\n",
    "prog = Progress(N_sam, 1, \"Computing initial pass...\", 50)\n",
    "for l in 1:N_sam\n",
    "    Σ_sam[:, :, l] = rand(InverseWishart(νstar, Ψstar), 1)[1];    # sample Σ\n",
    "    cholΣ_sam = cholesky(Σ_sam[:, :, l]);\n",
    "    β_sam[:, :, l] = (Lstar.L * rand(Normal(), p, q)) * \n",
    "                    cholΣ_sam.U + μstar;          # sample γ  \n",
    "    Y_M_sam[:, :, l] = X_ord[M, :] * β_sam[:, :, l] + \n",
    "    AtildeM * (Y_ord[S, :] - X_ord[S, :]* β_sam[:, :, l] ) + \n",
    "    Diagonal(sqrt.(Dtilde)) * rand(Normal(), nm, q) * cholΣ_sam.U\n",
    "    next!(prog) # monitor the progress\n",
    "end"
   ]
  },
  {
   "cell_type": "markdown",
   "metadata": {},
   "source": [
    "# MCMC Chain check"
   ]
  },
  {
   "cell_type": "code",
   "execution_count": null,
   "metadata": {},
   "outputs": [],
   "source": [
    "β_pos_sam = Array{Float64, 3}(undef, N_sam, p * q, 1);\n",
    "β_pos_sam[:, :, 1] = hcat(β_sam[1, 1, :], β_sam[1, 2, :], β_sam[2, 1, :], β_sam[2, 2, :]);\n",
    "β_chain = Chains(β_pos_sam);\n",
    "pβ = plot(β_chain)"
   ]
  },
  {
   "cell_type": "code",
   "execution_count": null,
   "metadata": {},
   "outputs": [],
   "source": [
    "β"
   ]
  },
  {
   "cell_type": "code",
   "execution_count": null,
   "metadata": {},
   "outputs": [],
   "source": [
    "truncindex = 1;#Integer(trunc(N_sam / 2));\n",
    "Σ_pos_sam = Array{Float64, 3}(undef, N_sam - truncindex + 1, q * q, 1);\n",
    "Σ_pos_sam[:, :, 1] = hcat(Σ_sam[1, 1, truncindex:N_sam], Σ_sam[1, 2, truncindex:N_sam], \n",
    "    Σ_sam[2, 1, truncindex:N_sam], Σ_sam[2, 2, truncindex:N_sam]);\n",
    "Σ_chain = Chains(Σ_pos_sam);\n",
    "pΣ = plot(Σ_chain)"
   ]
  },
  {
   "cell_type": "code",
   "execution_count": null,
   "metadata": {},
   "outputs": [],
   "source": [
    "Σ"
   ]
  },
  {
   "cell_type": "markdown",
   "metadata": {},
   "source": [
    "# Posterior Inference "
   ]
  },
  {
   "cell_type": "code",
   "execution_count": null,
   "metadata": {},
   "outputs": [],
   "source": [
    "# CVG # \n",
    "N_Inf_burn = 1;\n",
    "Y_M_pos_qt = Array{Float64, 3}(undef, nm, q, 3);\n",
    "Y_M_pos_mean = Array{Float64, 2}(undef, nm, q);\n",
    "for j in 1:q\n",
    "    for i in 1:nm\n",
    "        Y_M_pos_qt[i, j, :] = quantile(Y_M_sam[i, j, N_Inf_burn:N_sam], [0.025, 0.5, 0.975]);\n",
    "        Y_M_pos_mean[i, j] = mean(Y_M_sam[i, j, N_Inf_burn:N_sam])\n",
    "    end\n",
    "end\n",
    "# count the covarage of 95% CI #\n",
    "count = fill(0.0, 2);\n",
    "for j in 1:q\n",
    "    for i in 1:nm\n",
    "        count[j] = count[j] + \n",
    "        ((Y_M_pos_qt[i, j, 1] < Y_ord[M[i], j]) && \n",
    "            (Y_M_pos_qt[i, j, 3] > Y_ord[M[i], j]))\n",
    "    end\n",
    "end\n",
    "print(count ./ nm);\n",
    "print(sum(count) / (q * nm))"
   ]
  },
  {
   "cell_type": "code",
   "execution_count": null,
   "metadata": {},
   "outputs": [],
   "source": [
    "# RMSPE #\n",
    "MSPE1 = mean((Y_ord[M, 1] - Y_M_pos_mean[:, 1]).^2)\n",
    "RMSPE1 = sqrt(MSPE1); \n",
    "MSPE2 = mean((Y_ord[M, 2] - Y_M_pos_mean[:, 2]).^2)\n",
    "RMSPE2 = sqrt(MSPE2);\n",
    "MSPE = mean((Y_ord[M, :] - Y_M_pos_mean).^2)\n",
    "RMSPE = sqrt(MSPE);\n",
    "round.([RMSPE1 RMSPE2 RMSPE], digits = 3)"
   ]
  },
  {
   "cell_type": "code",
   "execution_count": null,
   "metadata": {},
   "outputs": [],
   "source": [
    "Y_M_sam_var = [var(Y_M_sam[i, j, :]) for i in 1:nm, j in 1:q];\n",
    "Y_M_sam_mean = [mean(Y_M_sam[i, j, :]) for i in 1:nm, j in 1:q];"
   ]
  },
  {
   "cell_type": "code",
   "execution_count": null,
   "metadata": {},
   "outputs": [],
   "source": [
    "CRPS_M = [(sqrt(Y_M_sam_var[i, j]) * ( 1 /sqrt(π) - \n",
    "        2 * pdf(Normal(), (Y_ord[M[i], j] - Y_M_sam_mean[i, j]) / sqrt(Y_M_sam_var[i, j])) -\n",
    "        ((Y_ord[M[i], j] - Y_M_sam_mean[i, j]) / sqrt(Y_M_sam_var[i, j])) * \n",
    "        (2* cdf(Normal(), (Y_ord[M[i], j] - Y_M_sam_mean[i, j]) / sqrt(Y_M_sam_var[i, j])) - 1)))\n",
    "        for i in 1:nm, j in 1:q];\n",
    "round.([mean(CRPS_M[:, 1]) mean(CRPS_M[:, 2]) mean(CRPS_M)], digits = 3)"
   ]
  },
  {
   "cell_type": "code",
   "execution_count": null,
   "metadata": {},
   "outputs": [],
   "source": [
    "INT_M = [((Y_M_pos_qt[i, j, 3] - Y_M_pos_qt[i, j, 1])+ \n",
    "                (2 / 0.05)*(Y_M_pos_qt[i, j, 1] - Y_ord[M[i], j]) * \n",
    "                (Y_ord[M[i], j] < Y_M_pos_qt[i, j, 1]) + \n",
    "                (2 / 0.05)*(Y_ord[M[i], j] - Y_M_pos_qt[i, j, 3]) * \n",
    "                (Y_ord[M[i], j] > (Y_M_pos_qt[i, j, 3]))) for i in 1:nm, j in 1:q];\n",
    "round.([mean(INT_M[:, 1]) mean(INT_M[:, 2]) mean(INT_M)], digits = 3)"
   ]
  },
  {
   "cell_type": "code",
   "execution_count": null,
   "metadata": {},
   "outputs": [],
   "source": [
    "N_Inf_burn = 1;\n",
    "summary_table = Array{Float64, 2}(undef, 7, 5);\n",
    "summary_table[1, :] = vcat(β[1, 1], mean(β_sam[1, 1, N_Inf_burn:N_sam]),\n",
    "    quantile(β_sam[1, 1, N_Inf_burn:N_sam], [0.5, 0.025, 0.975]));\n",
    "summary_table[2, :] = vcat(β[1, 2], mean(β_sam[1, 2, N_Inf_burn:N_sam]),\n",
    "    quantile(β_sam[1, 2, N_Inf_burn:N_sam], [0.5, 0.025, 0.975]));\n",
    "summary_table[3, :] = vcat(β[2, 1], mean(β_sam[2, 1, N_Inf_burn:N_sam]),\n",
    "    quantile(β_sam[2, 1, N_Inf_burn:N_sam], [0.5, 0.025, 0.975]));\n",
    "summary_table[4, :] = vcat(β[2, 2], mean(β_sam[2, 2, N_Inf_burn:N_sam]),\n",
    "    quantile(β_sam[2, 2, N_Inf_burn:N_sam], [0.5, 0.025, 0.975]));\n",
    "summary_table[5, :] = vcat((1 / α - 1.0) * Σ[1, 1], mean((1 / α_pick - 1.0) .* Σ_sam[1, 1, N_Inf_burn:N_sam]),\n",
    "    quantile((1 / α_pick - 1.0) .* Σ_sam[1, 1, N_Inf_burn:N_sam], [0.5, 0.025, 0.975]));\n",
    "summary_table[6, :] = vcat((1 / α - 1.0) * Σ[2, 2], mean((1 / α_pick - 1.0) .* Σ_sam[2, 2, N_Inf_burn:N_sam]),\n",
    "    quantile((1 / α_pick - 1.0) .* Σ_sam[2, 2, N_Inf_burn:N_sam], [0.5, 0.025, 0.975]));\n",
    "summary_table[7, :] = vcat((1 / α - 1.0) * Σ[2, 1], mean((1 / α_pick - 1.0) .* Σ_sam[2, 1, N_Inf_burn:N_sam]),\n",
    "    quantile((1 / α_pick - 1.0) .* Σ_sam[2, 1, N_Inf_burn:N_sam], [0.5, 0.025, 0.975]));\n",
    "summary_table = round.(summary_table; digits = 3);\n",
    "rnames = [\"β[1, 1]\", \"β[1, 2]\", \"β[2, 1]\", \"β[2, 2]\", \"(1/α - 1)Σ[1, 1]\", \"(1/α - 1)Σ[2, 2]\", \"(1/α - 1)Σ[1, 2]\"];\n",
    "summary_table = [rnames summary_table];\n",
    "pretty_table(summary_table,  [\"\" \"true\" \"mean\" \"median\" \"2.5%\" \"97.5%\"], markdown)"
   ]
  },
  {
   "cell_type": "code",
   "execution_count": null,
   "metadata": {},
   "outputs": [],
   "source": [
    "@save \"../results/Multi_conj_resp_data.jld\" β_sam Σ_sam Y_M_sam"
   ]
  },
  {
   "cell_type": "code",
   "execution_count": null,
   "metadata": {},
   "outputs": [],
   "source": []
  }
 ],
 "metadata": {
  "kernelspec": {
   "display_name": "Julia 1.2.0",
   "language": "julia",
   "name": "julia-1.2"
  },
  "language_info": {
   "file_extension": ".jl",
   "mimetype": "application/julia",
   "name": "julia",
   "version": "1.2.0"
  }
 },
 "nbformat": 4,
 "nbformat_minor": 2
}
